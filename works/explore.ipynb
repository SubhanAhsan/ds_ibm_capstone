{
 "cells": [
  {
   "cell_type": "code",
   "execution_count": null,
   "metadata": {},
   "outputs": [],
   "source": []
  },
  {
   "cell_type": "code",
   "execution_count": 3,
   "metadata": {},
   "outputs": [],
   "source": [
    "import pandas as pd\n",
    "import numpy as np"
   ]
  },
  {
   "cell_type": "markdown",
   "metadata": {},
   "source": [
    "## Community Data"
   ]
  },
  {
   "cell_type": "markdown",
   "metadata": {},
   "source": [
    "First Load, Clean and basic analysis"
   ]
  },
  {
   "cell_type": "code",
   "execution_count": 4,
   "metadata": {},
   "outputs": [
    {
     "data": {
      "text/html": [
       "<div>\n",
       "<style scoped>\n",
       "    .dataframe tbody tr th:only-of-type {\n",
       "        vertical-align: middle;\n",
       "    }\n",
       "\n",
       "    .dataframe tbody tr th {\n",
       "        vertical-align: top;\n",
       "    }\n",
       "\n",
       "    .dataframe thead th {\n",
       "        text-align: right;\n",
       "    }\n",
       "</style>\n",
       "<table border=\"1\" class=\"dataframe\">\n",
       "  <thead>\n",
       "    <tr style=\"text-align: right;\">\n",
       "      <th></th>\n",
       "      <th>X</th>\n",
       "      <th>Y</th>\n",
       "      <th>gid</th>\n",
       "      <th>Name</th>\n",
       "      <th>description</th>\n",
       "      <th>CNAME_E</th>\n",
       "      <th>OBJECTID</th>\n",
       "      <th>LABEL_E</th>\n",
       "      <th>C_PREFIX_E</th>\n",
       "      <th>C_PREFIX_A</th>\n",
       "      <th>COMMUNITY_</th>\n",
       "      <th>DGIS_ID</th>\n",
       "      <th>COMM_NUM</th>\n",
       "      <th>NDGIS_ID</th>\n",
       "      <th>SHAPE_AREA</th>\n",
       "      <th>SHAPE_LEN</th>\n",
       "    </tr>\n",
       "  </thead>\n",
       "  <tbody>\n",
       "    <tr>\n",
       "      <th>0</th>\n",
       "      <td>55.238901</td>\n",
       "      <td>24.696762</td>\n",
       "      <td>2</td>\n",
       "      <td>kml_2</td>\n",
       "      <td>NaN</td>\n",
       "      <td>HEFAIR</td>\n",
       "      <td>24</td>\n",
       "      <td>HEFAIR</td>\n",
       "      <td>Community:</td>\n",
       "      <td>NaN</td>\n",
       "      <td>HEFAIR - 991</td>\n",
       "      <td>227</td>\n",
       "      <td>991</td>\n",
       "      <td>227</td>\n",
       "      <td>1.435665e+08</td>\n",
       "      <td>51721.211180</td>\n",
       "    </tr>\n",
       "    <tr>\n",
       "      <th>1</th>\n",
       "      <td>55.351739</td>\n",
       "      <td>25.075185</td>\n",
       "      <td>6</td>\n",
       "      <td>kml_6</td>\n",
       "      <td>NaN</td>\n",
       "      <td>WADI AL SAFA 5</td>\n",
       "      <td>28</td>\n",
       "      <td>WADI AL SAFA 5</td>\n",
       "      <td>Community:</td>\n",
       "      <td>NaN</td>\n",
       "      <td>WADI AL SAFA 5 - 648</td>\n",
       "      <td>228</td>\n",
       "      <td>648</td>\n",
       "      <td>228</td>\n",
       "      <td>1.631967e+07</td>\n",
       "      <td>22350.662760</td>\n",
       "    </tr>\n",
       "    <tr>\n",
       "      <th>2</th>\n",
       "      <td>55.381360</td>\n",
       "      <td>24.870378</td>\n",
       "      <td>16</td>\n",
       "      <td>kml_16</td>\n",
       "      <td>NaN</td>\n",
       "      <td>SAIH AL SALAM</td>\n",
       "      <td>38</td>\n",
       "      <td>SAIH AL SALAM</td>\n",
       "      <td>Community:</td>\n",
       "      <td>NaN</td>\n",
       "      <td>SAIH AL SALAM - 951</td>\n",
       "      <td>217</td>\n",
       "      <td>951</td>\n",
       "      <td>217</td>\n",
       "      <td>8.869042e+07</td>\n",
       "      <td>42842.713290</td>\n",
       "    </tr>\n",
       "    <tr>\n",
       "      <th>3</th>\n",
       "      <td>55.543516</td>\n",
       "      <td>25.239984</td>\n",
       "      <td>127</td>\n",
       "      <td>kml_127</td>\n",
       "      <td>NaN</td>\n",
       "      <td>AL TTAY</td>\n",
       "      <td>149</td>\n",
       "      <td>AL TTAY</td>\n",
       "      <td>Community:</td>\n",
       "      <td>NaN</td>\n",
       "      <td>AL TTAY - 284</td>\n",
       "      <td>55</td>\n",
       "      <td>284</td>\n",
       "      <td>55</td>\n",
       "      <td>3.294484e+06</td>\n",
       "      <td>12793.454780</td>\n",
       "    </tr>\n",
       "    <tr>\n",
       "      <th>4</th>\n",
       "      <td>55.336311</td>\n",
       "      <td>25.268667</td>\n",
       "      <td>21</td>\n",
       "      <td>kml_21</td>\n",
       "      <td>NaN</td>\n",
       "      <td>AL KHABAISI</td>\n",
       "      <td>43</td>\n",
       "      <td>AL KHABAISI</td>\n",
       "      <td>Community:</td>\n",
       "      <td>NaN</td>\n",
       "      <td>AL KHABAISI - 128</td>\n",
       "      <td>30</td>\n",
       "      <td>128</td>\n",
       "      <td>30</td>\n",
       "      <td>1.226749e+06</td>\n",
       "      <td>5559.091719</td>\n",
       "    </tr>\n",
       "  </tbody>\n",
       "</table>\n",
       "</div>"
      ],
      "text/plain": [
       "           X          Y  gid     Name  description         CNAME_E  OBJECTID  \\\n",
       "0  55.238901  24.696762    2    kml_2          NaN          HEFAIR        24   \n",
       "1  55.351739  25.075185    6    kml_6          NaN  WADI AL SAFA 5        28   \n",
       "2  55.381360  24.870378   16   kml_16          NaN   SAIH AL SALAM        38   \n",
       "3  55.543516  25.239984  127  kml_127          NaN         AL TTAY       149   \n",
       "4  55.336311  25.268667   21   kml_21          NaN     AL KHABAISI        43   \n",
       "\n",
       "          LABEL_E  C_PREFIX_E  C_PREFIX_A            COMMUNITY_  DGIS_ID  \\\n",
       "0          HEFAIR  Community:         NaN          HEFAIR - 991      227   \n",
       "1  WADI AL SAFA 5  Community:         NaN  WADI AL SAFA 5 - 648      228   \n",
       "2   SAIH AL SALAM  Community:         NaN   SAIH AL SALAM - 951      217   \n",
       "3         AL TTAY  Community:         NaN         AL TTAY - 284       55   \n",
       "4     AL KHABAISI  Community:         NaN     AL KHABAISI - 128       30   \n",
       "\n",
       "   COMM_NUM  NDGIS_ID    SHAPE_AREA     SHAPE_LEN  \n",
       "0       991       227  1.435665e+08  51721.211180  \n",
       "1       648       228  1.631967e+07  22350.662760  \n",
       "2       951       217  8.869042e+07  42842.713290  \n",
       "3       284        55  3.294484e+06  12793.454780  \n",
       "4       128        30  1.226749e+06   5559.091719  "
      ]
     },
     "execution_count": 4,
     "metadata": {},
     "output_type": "execute_result"
    }
   ],
   "source": [
    "df_com_original = pd.read_csv(\"https://github.com/SubhanAhsan/ds_ibm_capstone/raw/master/data/dubai_com_geo.csv\")\n",
    "df_com_original.head()"
   ]
  },
  {
   "cell_type": "code",
   "execution_count": 19,
   "metadata": {},
   "outputs": [],
   "source": [
    "df_com = df_com_original[[\"X\", \"Y\", \"gid\", \"CNAME_E\", \"COMMUNITY_\", \"COMM_NUM\"]]"
   ]
  },
  {
   "cell_type": "code",
   "execution_count": 43,
   "metadata": {},
   "outputs": [
    {
     "name": "stdout",
     "output_type": "stream",
     "text": [
      "<class 'pandas.core.frame.DataFrame'>\n",
      "RangeIndex: 226 entries, 0 to 225\n",
      "Data columns (total 6 columns):\n",
      " #   Column              Non-Null Count  Dtype  \n",
      "---  ------              --------------  -----  \n",
      " 0   Longitude           226 non-null    float64\n",
      " 1   Latitude            226 non-null    float64\n",
      " 2   gid                 226 non-null    int64  \n",
      " 3   Community Name      226 non-null    object \n",
      " 4   Community Name Alt  226 non-null    object \n",
      " 5   Community Number    226 non-null    object \n",
      "dtypes: float64(2), int64(1), object(3)\n",
      "memory usage: 10.7+ KB\n"
     ]
    },
    {
     "data": {
      "text/plain": [
       "array(['101', '111', '112', '113', '114', '115', '116', '117', '118',\n",
       "       '119', '121', '122', '123', '124', '125', '126', '127', '128',\n",
       "       '129', '131', '132', '133', '134', '213', '214', '215', '216',\n",
       "       '221', '226', '227', '228', '231', '232', '233', '234', '241',\n",
       "       '242', '243', '244', '245', '246', '247', '248', '251', '252',\n",
       "       '261', '262', '263', '264', '265', '266', '267', '268', '271',\n",
       "       '281', '282', '283', '284', '302', '303', '304', '311', '312',\n",
       "       '313', '314', '315', '316', '317', '318', '319', '321', '322',\n",
       "       '323', '324', '325', '326', '332', '333', '334', '335', '336',\n",
       "       '337', '342', '343', '345', '346', '347', '352', '353', '354',\n",
       "       '355', '356', '357', '358', '359', '362', '363', '364', '365',\n",
       "       '366', '367', '368', '369', '372', '373', '375', '376', '381',\n",
       "       '382', '383', '384', '388', '392', '393', '394', '412', '413',\n",
       "       '415', '416', '421', '422', '423', '424', '425', '431', '501',\n",
       "       '502', '511', '512', '513', '516', '518', '521', '531', '532',\n",
       "       '533', '591', '592', '593', '594', '597', '598', '599', '611',\n",
       "       '612', '613', '614', '615', '616', '617', '618', '621', '622',\n",
       "       '624', '626', '631', '643', '645', '646', '648', '664', '665',\n",
       "       '671', '672', '673', '674', '675', '676', '677', '681', '682',\n",
       "       '683', '684', '685', '686', '711', '721', '724', '727', '731',\n",
       "       '735', '736', '811', '812', '813', '814', '821', '824', '826',\n",
       "       '831', '835', '841', '845', '847', '851', '857', '861', '891',\n",
       "       '911', '912', '913', '914', '915', '916', '917', '918', '919',\n",
       "       '921', '922', '923', '924', '925', '931', '941', '945', '951',\n",
       "       '956', '961', '967', '971', '975', '978', '981', '987', '988',\n",
       "       '991'], dtype=object)"
      ]
     },
     "execution_count": 43,
     "metadata": {},
     "output_type": "execute_result"
    }
   ],
   "source": [
    "df_com.info()"
   ]
  },
  {
   "cell_type": "code",
   "execution_count": 11,
   "metadata": {},
   "outputs": [
    {
     "data": {
      "text/plain": [
       "(226, 6)"
      ]
     },
     "execution_count": 11,
     "metadata": {},
     "output_type": "execute_result"
    }
   ],
   "source": [
    "df_com.shape"
   ]
  },
  {
   "cell_type": "code",
   "execution_count": 12,
   "metadata": {},
   "outputs": [
    {
     "data": {
      "text/plain": [
       "226"
      ]
     },
     "execution_count": 12,
     "metadata": {},
     "output_type": "execute_result"
    }
   ],
   "source": [
    "len(df_com[\"COMM_NUM\"].unique())"
   ]
  },
  {
   "cell_type": "code",
   "execution_count": 13,
   "metadata": {},
   "outputs": [
    {
     "data": {
      "text/html": [
       "<div>\n",
       "<style scoped>\n",
       "    .dataframe tbody tr th:only-of-type {\n",
       "        vertical-align: middle;\n",
       "    }\n",
       "\n",
       "    .dataframe tbody tr th {\n",
       "        vertical-align: top;\n",
       "    }\n",
       "\n",
       "    .dataframe thead th {\n",
       "        text-align: right;\n",
       "    }\n",
       "</style>\n",
       "<table border=\"1\" class=\"dataframe\">\n",
       "  <thead>\n",
       "    <tr style=\"text-align: right;\">\n",
       "      <th></th>\n",
       "      <th>X</th>\n",
       "      <th>Y</th>\n",
       "      <th>gid</th>\n",
       "      <th>CNAME_E</th>\n",
       "      <th>COMMUNITY_</th>\n",
       "      <th>COMM_NUM</th>\n",
       "    </tr>\n",
       "  </thead>\n",
       "  <tbody>\n",
       "    <tr>\n",
       "      <th>count</th>\n",
       "      <td>226</td>\n",
       "      <td>226</td>\n",
       "      <td>226</td>\n",
       "      <td>226</td>\n",
       "      <td>226</td>\n",
       "      <td>226</td>\n",
       "    </tr>\n",
       "    <tr>\n",
       "      <th>unique</th>\n",
       "      <td>1</td>\n",
       "      <td>1</td>\n",
       "      <td>1</td>\n",
       "      <td>1</td>\n",
       "      <td>1</td>\n",
       "      <td>1</td>\n",
       "    </tr>\n",
       "    <tr>\n",
       "      <th>top</th>\n",
       "      <td>False</td>\n",
       "      <td>False</td>\n",
       "      <td>False</td>\n",
       "      <td>False</td>\n",
       "      <td>False</td>\n",
       "      <td>False</td>\n",
       "    </tr>\n",
       "    <tr>\n",
       "      <th>freq</th>\n",
       "      <td>226</td>\n",
       "      <td>226</td>\n",
       "      <td>226</td>\n",
       "      <td>226</td>\n",
       "      <td>226</td>\n",
       "      <td>226</td>\n",
       "    </tr>\n",
       "  </tbody>\n",
       "</table>\n",
       "</div>"
      ],
      "text/plain": [
       "            X      Y    gid CNAME_E COMMUNITY_ COMM_NUM\n",
       "count     226    226    226     226        226      226\n",
       "unique      1      1      1       1          1        1\n",
       "top     False  False  False   False      False    False\n",
       "freq      226    226    226     226        226      226"
      ]
     },
     "execution_count": 13,
     "metadata": {},
     "output_type": "execute_result"
    }
   ],
   "source": [
    "df_com.isna().describe()"
   ]
  },
  {
   "cell_type": "code",
   "execution_count": 14,
   "metadata": {},
   "outputs": [
    {
     "data": {
      "text/plain": [
       "count    226.0\n",
       "mean       3.0\n",
       "std        0.0\n",
       "min        3.0\n",
       "25%        3.0\n",
       "50%        3.0\n",
       "75%        3.0\n",
       "max        3.0\n",
       "Name: COMM_NUM, dtype: float64"
      ]
     },
     "execution_count": 14,
     "metadata": {},
     "output_type": "execute_result"
    }
   ],
   "source": [
    "df_com[\"COMM_NUM\"].apply(str).apply(len).describe()"
   ]
  },
  {
   "cell_type": "markdown",
   "metadata": {},
   "source": [
    "**We may consider making the community number as string and adding sector**"
   ]
  },
  {
   "cell_type": "markdown",
   "metadata": {},
   "source": [
    "Rename the columns"
   ]
  },
  {
   "cell_type": "markdown",
   "metadata": {},
   "source": [
    "df_com.rename(columns={'X':'Longitude', 'Y':'Latitude', 'CNAME_E':'Community Name', 'COMM_NUM':'Community Number','COMMUNITY_':'Community Name Alt'}, inplace=True)"
   ]
  },
  {
   "cell_type": "markdown",
   "metadata": {},
   "source": [
    "Change type of community number"
   ]
  },
  {
   "cell_type": "code",
   "execution_count": 44,
   "metadata": {},
   "outputs": [
    {
     "name": "stdout",
     "output_type": "stream",
     "text": [
      "<class 'pandas.core.frame.DataFrame'>\n",
      "RangeIndex: 226 entries, 0 to 225\n",
      "Data columns (total 6 columns):\n",
      " #   Column              Non-Null Count  Dtype  \n",
      "---  ------              --------------  -----  \n",
      " 0   Longitude           226 non-null    float64\n",
      " 1   Latitude            226 non-null    float64\n",
      " 2   gid                 226 non-null    int64  \n",
      " 3   Community Name      226 non-null    object \n",
      " 4   Community Name Alt  226 non-null    object \n",
      " 5   Community Number    226 non-null    object \n",
      "dtypes: float64(2), int64(1), object(3)\n",
      "memory usage: 10.7+ KB\n"
     ]
    },
    {
     "name": "stderr",
     "output_type": "stream",
     "text": [
      "/home/jupyterlab/conda/envs/python/lib/python3.6/site-packages/pandas/core/indexing.py:670: SettingWithCopyWarning: \n",
      "A value is trying to be set on a copy of a slice from a DataFrame\n",
      "\n",
      "See the caveats in the documentation: https://pandas.pydata.org/pandas-docs/stable/user_guide/indexing.html#returning-a-view-versus-a-copy\n",
      "  iloc._setitem_with_indexer(indexer, value)\n",
      "/home/jupyterlab/conda/envs/python/lib/python3.6/site-packages/ipykernel_launcher.py:1: SettingWithCopyWarning: \n",
      "A value is trying to be set on a copy of a slice from a DataFrame\n",
      "\n",
      "See the caveats in the documentation: https://pandas.pydata.org/pandas-docs/stable/user_guide/indexing.html#returning-a-view-versus-a-copy\n",
      "  \"\"\"Entry point for launching an IPython kernel.\n"
     ]
    }
   ],
   "source": [
    "df_com['Community Number'].loc[:] = df_com['Community Number'].loc[:].astype(str)\n",
    "df_com.info()"
   ]
  },
  {
   "cell_type": "markdown",
   "metadata": {},
   "source": [
    "Add sector based on first digit of Community Number"
   ]
  },
  {
   "cell_type": "code",
   "execution_count": 77,
   "metadata": {},
   "outputs": [
    {
     "name": "stderr",
     "output_type": "stream",
     "text": [
      "/home/jupyterlab/conda/envs/python/lib/python3.6/site-packages/ipykernel_launcher.py:1: SettingWithCopyWarning: \n",
      "A value is trying to be set on a copy of a slice from a DataFrame.\n",
      "Try using .loc[row_indexer,col_indexer] = value instead\n",
      "\n",
      "See the caveats in the documentation: https://pandas.pydata.org/pandas-docs/stable/user_guide/indexing.html#returning-a-view-versus-a-copy\n",
      "  \"\"\"Entry point for launching an IPython kernel.\n"
     ]
    }
   ],
   "source": [
    "df_com['Sector'] = df_com['Community Number'].str[0]"
   ]
  },
  {
   "cell_type": "markdown",
   "metadata": {},
   "source": [
    "sort by community number"
   ]
  },
  {
   "cell_type": "code",
   "execution_count": 86,
   "metadata": {},
   "outputs": [
    {
     "data": {
      "text/html": [
       "<div>\n",
       "<style scoped>\n",
       "    .dataframe tbody tr th:only-of-type {\n",
       "        vertical-align: middle;\n",
       "    }\n",
       "\n",
       "    .dataframe tbody tr th {\n",
       "        vertical-align: top;\n",
       "    }\n",
       "\n",
       "    .dataframe thead th {\n",
       "        text-align: right;\n",
       "    }\n",
       "</style>\n",
       "<table border=\"1\" class=\"dataframe\">\n",
       "  <thead>\n",
       "    <tr style=\"text-align: right;\">\n",
       "      <th></th>\n",
       "      <th>Community Number</th>\n",
       "      <th>Longitude</th>\n",
       "      <th>Latitude</th>\n",
       "      <th>gid</th>\n",
       "      <th>Community Name</th>\n",
       "      <th>Community Name Alt</th>\n",
       "      <th>Sector</th>\n",
       "    </tr>\n",
       "  </thead>\n",
       "  <tbody>\n",
       "    <tr>\n",
       "      <th>117</th>\n",
       "      <td>101</td>\n",
       "      <td>55.266712</td>\n",
       "      <td>25.332858</td>\n",
       "      <td>100</td>\n",
       "      <td>NAKHLAT DEIRA</td>\n",
       "      <td>NAKHLAT DEIRA - 101</td>\n",
       "      <td>1</td>\n",
       "    </tr>\n",
       "    <tr>\n",
       "      <th>83</th>\n",
       "      <td>111</td>\n",
       "      <td>55.303071</td>\n",
       "      <td>25.278021</td>\n",
       "      <td>95</td>\n",
       "      <td>AL CORNICHE</td>\n",
       "      <td>AL CORNICHE - 111</td>\n",
       "      <td>1</td>\n",
       "    </tr>\n",
       "    <tr>\n",
       "      <th>19</th>\n",
       "      <td>112</td>\n",
       "      <td>55.296003</td>\n",
       "      <td>25.269669</td>\n",
       "      <td>184</td>\n",
       "      <td>AL RAS</td>\n",
       "      <td>AL RAS - 112</td>\n",
       "      <td>1</td>\n",
       "    </tr>\n",
       "    <tr>\n",
       "      <th>194</th>\n",
       "      <td>113</td>\n",
       "      <td>55.300108</td>\n",
       "      <td>25.272662</td>\n",
       "      <td>185</td>\n",
       "      <td>AL DAGHAYA</td>\n",
       "      <td>AL DAGHAYA - 113</td>\n",
       "      <td>1</td>\n",
       "    </tr>\n",
       "    <tr>\n",
       "      <th>191</th>\n",
       "      <td>114</td>\n",
       "      <td>55.299772</td>\n",
       "      <td>25.268903</td>\n",
       "      <td>186</td>\n",
       "      <td>AL BUTEEN</td>\n",
       "      <td>AL BUTEEN - 114</td>\n",
       "      <td>1</td>\n",
       "    </tr>\n",
       "    <tr>\n",
       "      <th>...</th>\n",
       "      <td>...</td>\n",
       "      <td>...</td>\n",
       "      <td>...</td>\n",
       "      <td>...</td>\n",
       "      <td>...</td>\n",
       "      <td>...</td>\n",
       "      <td>...</td>\n",
       "    </tr>\n",
       "    <tr>\n",
       "      <th>22</th>\n",
       "      <td>978</td>\n",
       "      <td>55.427248</td>\n",
       "      <td>24.670109</td>\n",
       "      <td>214</td>\n",
       "      <td>SAIH SHUA'ALAH</td>\n",
       "      <td>SAIH SHUA'ALAH - 978</td>\n",
       "      <td>9</td>\n",
       "    </tr>\n",
       "    <tr>\n",
       "      <th>218</th>\n",
       "      <td>981</td>\n",
       "      <td>55.209202</td>\n",
       "      <td>24.802215</td>\n",
       "      <td>218</td>\n",
       "      <td>MUGATRAH</td>\n",
       "      <td>MUGATRAH - 981</td>\n",
       "      <td>9</td>\n",
       "    </tr>\n",
       "    <tr>\n",
       "      <th>40</th>\n",
       "      <td>987</td>\n",
       "      <td>55.122470</td>\n",
       "      <td>24.790772</td>\n",
       "      <td>22</td>\n",
       "      <td>AL LAYAN 1</td>\n",
       "      <td>AL LAYAN 1 - 987</td>\n",
       "      <td>9</td>\n",
       "    </tr>\n",
       "    <tr>\n",
       "      <th>147</th>\n",
       "      <td>988</td>\n",
       "      <td>55.156838</td>\n",
       "      <td>24.748468</td>\n",
       "      <td>211</td>\n",
       "      <td>AL LAYAN 2</td>\n",
       "      <td>AL LAYAN 2 - 988</td>\n",
       "      <td>9</td>\n",
       "    </tr>\n",
       "    <tr>\n",
       "      <th>0</th>\n",
       "      <td>991</td>\n",
       "      <td>55.238901</td>\n",
       "      <td>24.696762</td>\n",
       "      <td>2</td>\n",
       "      <td>HEFAIR</td>\n",
       "      <td>HEFAIR - 991</td>\n",
       "      <td>9</td>\n",
       "    </tr>\n",
       "  </tbody>\n",
       "</table>\n",
       "<p>226 rows × 7 columns</p>\n",
       "</div>"
      ],
      "text/plain": [
       "    Community Number  Longitude   Latitude  gid  Community Name  \\\n",
       "117              101  55.266712  25.332858  100   NAKHLAT DEIRA   \n",
       "83               111  55.303071  25.278021   95     AL CORNICHE   \n",
       "19               112  55.296003  25.269669  184          AL RAS   \n",
       "194              113  55.300108  25.272662  185      AL DAGHAYA   \n",
       "191              114  55.299772  25.268903  186       AL BUTEEN   \n",
       "..               ...        ...        ...  ...             ...   \n",
       "22               978  55.427248  24.670109  214  SAIH SHUA'ALAH   \n",
       "218              981  55.209202  24.802215  218        MUGATRAH   \n",
       "40               987  55.122470  24.790772   22      AL LAYAN 1   \n",
       "147              988  55.156838  24.748468  211      AL LAYAN 2   \n",
       "0                991  55.238901  24.696762    2          HEFAIR   \n",
       "\n",
       "       Community Name Alt Sector  \n",
       "117   NAKHLAT DEIRA - 101      1  \n",
       "83      AL CORNICHE - 111      1  \n",
       "19           AL RAS - 112      1  \n",
       "194      AL DAGHAYA - 113      1  \n",
       "191       AL BUTEEN - 114      1  \n",
       "..                    ...    ...  \n",
       "22   SAIH SHUA'ALAH - 978      9  \n",
       "218        MUGATRAH - 981      9  \n",
       "40       AL LAYAN 1 - 987      9  \n",
       "147      AL LAYAN 2 - 988      9  \n",
       "0            HEFAIR - 991      9  \n",
       "\n",
       "[226 rows x 7 columns]"
      ]
     },
     "execution_count": 86,
     "metadata": {},
     "output_type": "execute_result"
    }
   ],
   "source": [
    "df_com.sort_values('Community Number', inplace=True)"
   ]
  },
  {
   "cell_type": "code",
   "execution_count": null,
   "metadata": {},
   "outputs": [],
   "source": []
  }
 ],
 "metadata": {
  "kernelspec": {
   "display_name": "Python",
   "language": "python",
   "name": "conda-env-python-py"
  },
  "language_info": {
   "codemirror_mode": {
    "name": "ipython",
    "version": 3
   },
   "file_extension": ".py",
   "mimetype": "text/x-python",
   "name": "python",
   "nbconvert_exporter": "python",
   "pygments_lexer": "ipython3",
   "version": "3.6.12"
  }
 },
 "nbformat": 4,
 "nbformat_minor": 4
}
