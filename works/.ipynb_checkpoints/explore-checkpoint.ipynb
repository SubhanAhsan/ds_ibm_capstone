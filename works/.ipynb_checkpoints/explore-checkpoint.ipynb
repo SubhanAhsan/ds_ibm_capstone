{
 "cells": [
  {
   "cell_type": "code",
   "execution_count": 32,
   "metadata": {},
   "outputs": [
    {
     "name": "stdout",
     "output_type": "stream",
     "text": [
      "folium                    0.11.0                   pypi_0    pypi\n"
     ]
    }
   ],
   "source": [
    "#!conda list | grep folium\n",
    "#!pip install folium --upgrade"
   ]
  },
  {
   "cell_type": "code",
   "execution_count": 33,
   "metadata": {},
   "outputs": [],
   "source": [
    "import pandas as pd\n",
    "import numpy as np\n",
    "import folium\n",
    "from branca.colormap import linear  # for colorbrewer\n",
    "from IPython.display import IFrame\n",
    "\n",
    "import matplotlib.pyplot as plt\n",
    "import seaborn as sns"
   ]
  },
  {
   "cell_type": "markdown",
   "metadata": {},
   "source": [
    "## Community Data"
   ]
  },
  {
   "cell_type": "markdown",
   "metadata": {},
   "source": [
    "First Load, Clean and basic analysis"
   ]
  },
  {
   "cell_type": "code",
   "execution_count": 3,
   "metadata": {},
   "outputs": [
    {
     "data": {
      "text/html": [
       "<div>\n",
       "<style scoped>\n",
       "    .dataframe tbody tr th:only-of-type {\n",
       "        vertical-align: middle;\n",
       "    }\n",
       "\n",
       "    .dataframe tbody tr th {\n",
       "        vertical-align: top;\n",
       "    }\n",
       "\n",
       "    .dataframe thead th {\n",
       "        text-align: right;\n",
       "    }\n",
       "</style>\n",
       "<table border=\"1\" class=\"dataframe\">\n",
       "  <thead>\n",
       "    <tr style=\"text-align: right;\">\n",
       "      <th></th>\n",
       "      <th>X</th>\n",
       "      <th>Y</th>\n",
       "      <th>gid</th>\n",
       "      <th>Name</th>\n",
       "      <th>description</th>\n",
       "      <th>CNAME_E</th>\n",
       "      <th>OBJECTID</th>\n",
       "      <th>LABEL_E</th>\n",
       "      <th>C_PREFIX_E</th>\n",
       "      <th>C_PREFIX_A</th>\n",
       "      <th>COMMUNITY_</th>\n",
       "      <th>DGIS_ID</th>\n",
       "      <th>COMM_NUM</th>\n",
       "      <th>NDGIS_ID</th>\n",
       "      <th>SHAPE_AREA</th>\n",
       "      <th>SHAPE_LEN</th>\n",
       "    </tr>\n",
       "  </thead>\n",
       "  <tbody>\n",
       "    <tr>\n",
       "      <th>0</th>\n",
       "      <td>55.238901</td>\n",
       "      <td>24.696762</td>\n",
       "      <td>2</td>\n",
       "      <td>kml_2</td>\n",
       "      <td>NaN</td>\n",
       "      <td>HEFAIR</td>\n",
       "      <td>24</td>\n",
       "      <td>HEFAIR</td>\n",
       "      <td>Community:</td>\n",
       "      <td>NaN</td>\n",
       "      <td>HEFAIR - 991</td>\n",
       "      <td>227</td>\n",
       "      <td>991</td>\n",
       "      <td>227</td>\n",
       "      <td>1.435665e+08</td>\n",
       "      <td>51721.211180</td>\n",
       "    </tr>\n",
       "    <tr>\n",
       "      <th>1</th>\n",
       "      <td>55.351739</td>\n",
       "      <td>25.075185</td>\n",
       "      <td>6</td>\n",
       "      <td>kml_6</td>\n",
       "      <td>NaN</td>\n",
       "      <td>WADI AL SAFA 5</td>\n",
       "      <td>28</td>\n",
       "      <td>WADI AL SAFA 5</td>\n",
       "      <td>Community:</td>\n",
       "      <td>NaN</td>\n",
       "      <td>WADI AL SAFA 5 - 648</td>\n",
       "      <td>228</td>\n",
       "      <td>648</td>\n",
       "      <td>228</td>\n",
       "      <td>1.631967e+07</td>\n",
       "      <td>22350.662760</td>\n",
       "    </tr>\n",
       "    <tr>\n",
       "      <th>2</th>\n",
       "      <td>55.381360</td>\n",
       "      <td>24.870378</td>\n",
       "      <td>16</td>\n",
       "      <td>kml_16</td>\n",
       "      <td>NaN</td>\n",
       "      <td>SAIH AL SALAM</td>\n",
       "      <td>38</td>\n",
       "      <td>SAIH AL SALAM</td>\n",
       "      <td>Community:</td>\n",
       "      <td>NaN</td>\n",
       "      <td>SAIH AL SALAM - 951</td>\n",
       "      <td>217</td>\n",
       "      <td>951</td>\n",
       "      <td>217</td>\n",
       "      <td>8.869042e+07</td>\n",
       "      <td>42842.713290</td>\n",
       "    </tr>\n",
       "    <tr>\n",
       "      <th>3</th>\n",
       "      <td>55.543516</td>\n",
       "      <td>25.239984</td>\n",
       "      <td>127</td>\n",
       "      <td>kml_127</td>\n",
       "      <td>NaN</td>\n",
       "      <td>AL TTAY</td>\n",
       "      <td>149</td>\n",
       "      <td>AL TTAY</td>\n",
       "      <td>Community:</td>\n",
       "      <td>NaN</td>\n",
       "      <td>AL TTAY - 284</td>\n",
       "      <td>55</td>\n",
       "      <td>284</td>\n",
       "      <td>55</td>\n",
       "      <td>3.294484e+06</td>\n",
       "      <td>12793.454780</td>\n",
       "    </tr>\n",
       "    <tr>\n",
       "      <th>4</th>\n",
       "      <td>55.336311</td>\n",
       "      <td>25.268667</td>\n",
       "      <td>21</td>\n",
       "      <td>kml_21</td>\n",
       "      <td>NaN</td>\n",
       "      <td>AL KHABAISI</td>\n",
       "      <td>43</td>\n",
       "      <td>AL KHABAISI</td>\n",
       "      <td>Community:</td>\n",
       "      <td>NaN</td>\n",
       "      <td>AL KHABAISI - 128</td>\n",
       "      <td>30</td>\n",
       "      <td>128</td>\n",
       "      <td>30</td>\n",
       "      <td>1.226749e+06</td>\n",
       "      <td>5559.091719</td>\n",
       "    </tr>\n",
       "  </tbody>\n",
       "</table>\n",
       "</div>"
      ],
      "text/plain": [
       "           X          Y  gid     Name  description         CNAME_E  OBJECTID  \\\n",
       "0  55.238901  24.696762    2    kml_2          NaN          HEFAIR        24   \n",
       "1  55.351739  25.075185    6    kml_6          NaN  WADI AL SAFA 5        28   \n",
       "2  55.381360  24.870378   16   kml_16          NaN   SAIH AL SALAM        38   \n",
       "3  55.543516  25.239984  127  kml_127          NaN         AL TTAY       149   \n",
       "4  55.336311  25.268667   21   kml_21          NaN     AL KHABAISI        43   \n",
       "\n",
       "          LABEL_E  C_PREFIX_E  C_PREFIX_A            COMMUNITY_  DGIS_ID  \\\n",
       "0          HEFAIR  Community:         NaN          HEFAIR - 991      227   \n",
       "1  WADI AL SAFA 5  Community:         NaN  WADI AL SAFA 5 - 648      228   \n",
       "2   SAIH AL SALAM  Community:         NaN   SAIH AL SALAM - 951      217   \n",
       "3         AL TTAY  Community:         NaN         AL TTAY - 284       55   \n",
       "4     AL KHABAISI  Community:         NaN     AL KHABAISI - 128       30   \n",
       "\n",
       "   COMM_NUM  NDGIS_ID    SHAPE_AREA     SHAPE_LEN  \n",
       "0       991       227  1.435665e+08  51721.211180  \n",
       "1       648       228  1.631967e+07  22350.662760  \n",
       "2       951       217  8.869042e+07  42842.713290  \n",
       "3       284        55  3.294484e+06  12793.454780  \n",
       "4       128        30  1.226749e+06   5559.091719  "
      ]
     },
     "execution_count": 3,
     "metadata": {},
     "output_type": "execute_result"
    }
   ],
   "source": [
    "df_com_original = pd.read_csv(\"https://github.com/SubhanAhsan/ds_ibm_capstone/raw/master/data/dubai_com_geo.csv\")\n",
    "df_com_original.head()"
   ]
  },
  {
   "cell_type": "code",
   "execution_count": 4,
   "metadata": {},
   "outputs": [],
   "source": [
    "df_com = df_com_original[[\"X\", \"Y\", \"gid\", \"CNAME_E\", \"COMMUNITY_\", \"COMM_NUM\"]]"
   ]
  },
  {
   "cell_type": "code",
   "execution_count": 5,
   "metadata": {},
   "outputs": [
    {
     "name": "stdout",
     "output_type": "stream",
     "text": [
      "<class 'pandas.core.frame.DataFrame'>\n",
      "RangeIndex: 226 entries, 0 to 225\n",
      "Data columns (total 6 columns):\n",
      " #   Column      Non-Null Count  Dtype  \n",
      "---  ------      --------------  -----  \n",
      " 0   X           226 non-null    float64\n",
      " 1   Y           226 non-null    float64\n",
      " 2   gid         226 non-null    int64  \n",
      " 3   CNAME_E     226 non-null    object \n",
      " 4   COMMUNITY_  226 non-null    object \n",
      " 5   COMM_NUM    226 non-null    int64  \n",
      "dtypes: float64(2), int64(2), object(2)\n",
      "memory usage: 10.7+ KB\n"
     ]
    },
    {
     "data": {
      "text/plain": [
       "(226, 6)"
      ]
     },
     "execution_count": 5,
     "metadata": {},
     "output_type": "execute_result"
    }
   ],
   "source": [
    "df_com.info()\n",
    "df_com.shape"
   ]
  },
  {
   "cell_type": "code",
   "execution_count": 6,
   "metadata": {},
   "outputs": [
    {
     "name": "stdout",
     "output_type": "stream",
     "text": [
      "226\n"
     ]
    },
    {
     "data": {
      "text/html": [
       "<div>\n",
       "<style scoped>\n",
       "    .dataframe tbody tr th:only-of-type {\n",
       "        vertical-align: middle;\n",
       "    }\n",
       "\n",
       "    .dataframe tbody tr th {\n",
       "        vertical-align: top;\n",
       "    }\n",
       "\n",
       "    .dataframe thead th {\n",
       "        text-align: right;\n",
       "    }\n",
       "</style>\n",
       "<table border=\"1\" class=\"dataframe\">\n",
       "  <thead>\n",
       "    <tr style=\"text-align: right;\">\n",
       "      <th></th>\n",
       "      <th>X</th>\n",
       "      <th>Y</th>\n",
       "      <th>gid</th>\n",
       "      <th>CNAME_E</th>\n",
       "      <th>COMMUNITY_</th>\n",
       "      <th>COMM_NUM</th>\n",
       "    </tr>\n",
       "  </thead>\n",
       "  <tbody>\n",
       "    <tr>\n",
       "      <th>count</th>\n",
       "      <td>226</td>\n",
       "      <td>226</td>\n",
       "      <td>226</td>\n",
       "      <td>226</td>\n",
       "      <td>226</td>\n",
       "      <td>226</td>\n",
       "    </tr>\n",
       "    <tr>\n",
       "      <th>unique</th>\n",
       "      <td>1</td>\n",
       "      <td>1</td>\n",
       "      <td>1</td>\n",
       "      <td>1</td>\n",
       "      <td>1</td>\n",
       "      <td>1</td>\n",
       "    </tr>\n",
       "    <tr>\n",
       "      <th>top</th>\n",
       "      <td>False</td>\n",
       "      <td>False</td>\n",
       "      <td>False</td>\n",
       "      <td>False</td>\n",
       "      <td>False</td>\n",
       "      <td>False</td>\n",
       "    </tr>\n",
       "    <tr>\n",
       "      <th>freq</th>\n",
       "      <td>226</td>\n",
       "      <td>226</td>\n",
       "      <td>226</td>\n",
       "      <td>226</td>\n",
       "      <td>226</td>\n",
       "      <td>226</td>\n",
       "    </tr>\n",
       "  </tbody>\n",
       "</table>\n",
       "</div>"
      ],
      "text/plain": [
       "            X      Y    gid CNAME_E COMMUNITY_ COMM_NUM\n",
       "count     226    226    226     226        226      226\n",
       "unique      1      1      1       1          1        1\n",
       "top     False  False  False   False      False    False\n",
       "freq      226    226    226     226        226      226"
      ]
     },
     "execution_count": 6,
     "metadata": {},
     "output_type": "execute_result"
    }
   ],
   "source": [
    "print(len(df_com[\"COMM_NUM\"].unique()))\n",
    "df_com.isna().describe()"
   ]
  },
  {
   "cell_type": "code",
   "execution_count": 7,
   "metadata": {},
   "outputs": [
    {
     "data": {
      "text/plain": [
       "count    226.0\n",
       "mean       3.0\n",
       "std        0.0\n",
       "min        3.0\n",
       "25%        3.0\n",
       "50%        3.0\n",
       "75%        3.0\n",
       "max        3.0\n",
       "Name: COMM_NUM, dtype: float64"
      ]
     },
     "execution_count": 7,
     "metadata": {},
     "output_type": "execute_result"
    }
   ],
   "source": [
    "df_com[\"COMM_NUM\"].apply(str).apply(len).describe()"
   ]
  },
  {
   "cell_type": "markdown",
   "metadata": {},
   "source": [
    "Rename the columns"
   ]
  },
  {
   "cell_type": "code",
   "execution_count": 8,
   "metadata": {},
   "outputs": [
    {
     "name": "stderr",
     "output_type": "stream",
     "text": [
      "/home/jupyterlab/conda/envs/python/lib/python3.6/site-packages/pandas/core/frame.py:4308: SettingWithCopyWarning: \n",
      "A value is trying to be set on a copy of a slice from a DataFrame\n",
      "\n",
      "See the caveats in the documentation: https://pandas.pydata.org/pandas-docs/stable/user_guide/indexing.html#returning-a-view-versus-a-copy\n",
      "  errors=errors,\n"
     ]
    }
   ],
   "source": [
    "df_com.rename(columns={'X':'Longitude', 'Y':'Latitude', 'CNAME_E':'Community Name', 'COMM_NUM':'Community Number','COMMUNITY_':'Community Name Alt'}, inplace=True)"
   ]
  },
  {
   "cell_type": "markdown",
   "metadata": {},
   "source": [
    "Change type of community number"
   ]
  },
  {
   "cell_type": "code",
   "execution_count": 9,
   "metadata": {},
   "outputs": [
    {
     "name": "stdout",
     "output_type": "stream",
     "text": [
      "<class 'pandas.core.frame.DataFrame'>\n",
      "RangeIndex: 226 entries, 0 to 225\n",
      "Data columns (total 6 columns):\n",
      " #   Column              Non-Null Count  Dtype  \n",
      "---  ------              --------------  -----  \n",
      " 0   Longitude           226 non-null    float64\n",
      " 1   Latitude            226 non-null    float64\n",
      " 2   gid                 226 non-null    int64  \n",
      " 3   Community Name      226 non-null    object \n",
      " 4   Community Name Alt  226 non-null    object \n",
      " 5   Community Number    226 non-null    object \n",
      "dtypes: float64(2), int64(1), object(3)\n",
      "memory usage: 10.7+ KB\n"
     ]
    },
    {
     "name": "stderr",
     "output_type": "stream",
     "text": [
      "/home/jupyterlab/conda/envs/python/lib/python3.6/site-packages/pandas/core/indexing.py:670: SettingWithCopyWarning: \n",
      "A value is trying to be set on a copy of a slice from a DataFrame\n",
      "\n",
      "See the caveats in the documentation: https://pandas.pydata.org/pandas-docs/stable/user_guide/indexing.html#returning-a-view-versus-a-copy\n",
      "  iloc._setitem_with_indexer(indexer, value)\n",
      "/home/jupyterlab/conda/envs/python/lib/python3.6/site-packages/ipykernel_launcher.py:1: SettingWithCopyWarning: \n",
      "A value is trying to be set on a copy of a slice from a DataFrame\n",
      "\n",
      "See the caveats in the documentation: https://pandas.pydata.org/pandas-docs/stable/user_guide/indexing.html#returning-a-view-versus-a-copy\n",
      "  \"\"\"Entry point for launching an IPython kernel.\n"
     ]
    }
   ],
   "source": [
    "df_com['Community Number'].loc[:] = df_com['Community Number'].loc[:].astype(str)\n",
    "df_com.info()"
   ]
  },
  {
   "cell_type": "markdown",
   "metadata": {},
   "source": [
    "Add sector based on first digit of Community Number"
   ]
  },
  {
   "cell_type": "code",
   "execution_count": 10,
   "metadata": {},
   "outputs": [
    {
     "name": "stderr",
     "output_type": "stream",
     "text": [
      "/home/jupyterlab/conda/envs/python/lib/python3.6/site-packages/ipykernel_launcher.py:1: SettingWithCopyWarning: \n",
      "A value is trying to be set on a copy of a slice from a DataFrame.\n",
      "Try using .loc[row_indexer,col_indexer] = value instead\n",
      "\n",
      "See the caveats in the documentation: https://pandas.pydata.org/pandas-docs/stable/user_guide/indexing.html#returning-a-view-versus-a-copy\n",
      "  \"\"\"Entry point for launching an IPython kernel.\n",
      "/home/jupyterlab/conda/envs/python/lib/python3.6/site-packages/ipykernel_launcher.py:2: SettingWithCopyWarning: \n",
      "A value is trying to be set on a copy of a slice from a DataFrame\n",
      "\n",
      "See the caveats in the documentation: https://pandas.pydata.org/pandas-docs/stable/user_guide/indexing.html#returning-a-view-versus-a-copy\n",
      "  \n"
     ]
    }
   ],
   "source": [
    "df_com['Sector'] = df_com['Community Number'].str[0].astype(int)\n",
    "df_com.sort_values('Community Number', inplace=True)"
   ]
  },
  {
   "cell_type": "code",
   "execution_count": 11,
   "metadata": {},
   "outputs": [
    {
     "name": "stdout",
     "output_type": "stream",
     "text": [
      "<class 'pandas.core.frame.DataFrame'>\n",
      "Int64Index: 226 entries, 117 to 0\n",
      "Data columns (total 7 columns):\n",
      " #   Column              Non-Null Count  Dtype  \n",
      "---  ------              --------------  -----  \n",
      " 0   Longitude           226 non-null    float64\n",
      " 1   Latitude            226 non-null    float64\n",
      " 2   gid                 226 non-null    int64  \n",
      " 3   Community Name      226 non-null    object \n",
      " 4   Community Name Alt  226 non-null    object \n",
      " 5   Community Number    226 non-null    object \n",
      " 6   Sector              226 non-null    int64  \n",
      "dtypes: float64(2), int64(2), object(3)\n",
      "memory usage: 14.1+ KB\n"
     ]
    }
   ],
   "source": [
    "df_com.info()"
   ]
  },
  {
   "cell_type": "markdown",
   "metadata": {},
   "source": [
    "# Plot on Map"
   ]
  },
  {
   "cell_type": "code",
   "execution_count": 25,
   "metadata": {},
   "outputs": [
    {
     "name": "stdout",
     "output_type": "stream",
     "text": [
      "GeoJSON file downloaded!\n"
     ]
    }
   ],
   "source": [
    "# define the map centered around Dubai with a higher zoom level\n",
    "\n",
    "#define Dubai's geolocation coordinates\n",
    "dubai_latitude = 25.2048\n",
    "dubai_longitude = 55.2708\n",
    "\n",
    "#load dubai.geojson\n",
    "\n",
    "# download countries geojson file\n",
    "!wget --quiet https://github.com/SubhanAhsan/ds_ibm_capstone/raw/master/data/dubai.geojson -O dubaigeo.json\n",
    "\n",
    "#url_dubai_geo = 'https://github.com/SubhanAhsan/ds_ibm_capstone/blob/master/data/dubai.geojson'\n",
    "dubai_geo = r'dubaigeo.json' # geojson file\n",
    "\n",
    "map_dubai = folium.Map(location=[dubai_latitude, dubai_longitude], zoom_start=9, tiles='cartodbpositron')\n",
    "\n",
    "map_dubai.choropleth(\n",
    "    geo_data=dubai_geo,\n",
    "    data=df_com,\n",
    "    columns=['Community Name', 'Sector'],\n",
    "    key_on='feature.properties.COMM_NUM',\n",
    "    fill_color='YlGn', \n",
    "    fill_opacity=0.7, \n",
    "    line_opacity=0.2,\n",
    "    legend_name='Dubai Communities'\n",
    ")\n",
    "map_dubai.save(\"map_dubai_communities.html\")\n",
    "#folium.LayerControl().add_to(map_dubai)\n",
    "\n",
    "# display map\n",
    "#map_dubai\n",
    "\n",
    "print('Map generated')"
   ]
  },
  {
   "cell_type": "code",
   "execution_count": 26,
   "metadata": {},
   "outputs": [
    {
     "data": {
      "text/html": [
       "\n",
       "        <iframe\n",
       "            width=\"980\"\n",
       "            height=\"600\"\n",
       "            src=\"map_dubai_communities.html\"\n",
       "            frameborder=\"0\"\n",
       "            allowfullscreen\n",
       "        ></iframe>\n",
       "        "
      ],
      "text/plain": [
       "<IPython.lib.display.IFrame at 0x7f7f187784a8>"
      ]
     },
     "execution_count": 26,
     "metadata": {},
     "output_type": "execute_result"
    }
   ],
   "source": [
    "#show map\n",
    "IFrame(src='map_dubai_communities.html', width=980, height=600)"
   ]
  },
  {
   "cell_type": "code",
   "execution_count": null,
   "metadata": {},
   "outputs": [],
   "source": []
  }
 ],
 "metadata": {
  "kernelspec": {
   "display_name": "Python",
   "language": "python",
   "name": "conda-env-python-py"
  },
  "language_info": {
   "codemirror_mode": {
    "name": "ipython",
    "version": 3
   },
   "file_extension": ".py",
   "mimetype": "text/x-python",
   "name": "python",
   "nbconvert_exporter": "python",
   "pygments_lexer": "ipython3",
   "version": "3.6.12"
  }
 },
 "nbformat": 4,
 "nbformat_minor": 4
}
